{
 "cells": [
  {
   "cell_type": "code",
   "execution_count": 2,
   "metadata": {},
   "outputs": [],
   "source": [
    "import selenium\n",
    "from selenium import webdriver\n",
    "\n",
    "import pandas as pd"
   ]
  },
  {
   "cell_type": "code",
   "execution_count": 3,
   "metadata": {},
   "outputs": [
    {
     "ename": "NoSuchWindowException",
     "evalue": "Message: no such window: target window already closed\nfrom unknown error: web view not found\n  (Session info: chrome=125.0.6422.112)\n",
     "output_type": "error",
     "traceback": [
      "\u001b[1;31m---------------------------------------------------------------------------\u001b[0m",
      "\u001b[1;31mNoSuchWindowException\u001b[0m                     Traceback (most recent call last)",
      "Cell \u001b[1;32mIn[3], line 19\u001b[0m\n\u001b[0;32m     15\u001b[0m     driver\u001b[38;5;241m.\u001b[39mexecute_script(\u001b[38;5;124m\"\u001b[39m\u001b[38;5;124marguments[0].click();\u001b[39m\u001b[38;5;124m\"\u001b[39m, i)\n\u001b[0;32m     18\u001b[0m content_XPATH \u001b[38;5;241m=\u001b[39m \u001b[38;5;124m\"\u001b[39m\u001b[38;5;124m//app-flight-list-detail/div/div[2]\u001b[39m\u001b[38;5;124m\"\u001b[39m\n\u001b[1;32m---> 19\u001b[0m content \u001b[38;5;241m=\u001b[39m driver\u001b[38;5;241m.\u001b[39mfind_elements_by_xpath(content_XPATH)\n\u001b[0;32m     20\u001b[0m \u001b[38;5;28;01mfor\u001b[39;00m i \u001b[38;5;129;01min\u001b[39;00m content:\n\u001b[0;32m     21\u001b[0m     flight_data\u001b[38;5;241m.\u001b[39mappend(i\u001b[38;5;241m.\u001b[39mtext)\n",
      "File \u001b[1;32mc:\\ProgramData\\miniconda3\\Lib\\site-packages\\selenium\\webdriver\\remote\\webdriver.py:410\u001b[0m, in \u001b[0;36mWebDriver.find_elements_by_xpath\u001b[1;34m(self, xpath)\u001b[0m\n\u001b[0;32m    396\u001b[0m \u001b[38;5;28;01mdef\u001b[39;00m \u001b[38;5;21mfind_elements_by_xpath\u001b[39m(\u001b[38;5;28mself\u001b[39m, xpath):\n\u001b[0;32m    397\u001b[0m \u001b[38;5;250m    \u001b[39m\u001b[38;5;124;03m\"\"\"\u001b[39;00m\n\u001b[0;32m    398\u001b[0m \u001b[38;5;124;03m    Finds multiple elements by xpath.\u001b[39;00m\n\u001b[0;32m    399\u001b[0m \n\u001b[1;32m   (...)\u001b[0m\n\u001b[0;32m    408\u001b[0m \u001b[38;5;124;03m        elements = driver.find_elements_by_xpath(\"//div[contains(@class, 'foo')]\")\u001b[39;00m\n\u001b[0;32m    409\u001b[0m \u001b[38;5;124;03m    \"\"\"\u001b[39;00m\n\u001b[1;32m--> 410\u001b[0m     \u001b[38;5;28;01mreturn\u001b[39;00m \u001b[38;5;28mself\u001b[39m\u001b[38;5;241m.\u001b[39mfind_elements(by\u001b[38;5;241m=\u001b[39mBy\u001b[38;5;241m.\u001b[39mXPATH, value\u001b[38;5;241m=\u001b[39mxpath)\n",
      "File \u001b[1;32mc:\\ProgramData\\miniconda3\\Lib\\site-packages\\selenium\\webdriver\\remote\\webdriver.py:1005\u001b[0m, in \u001b[0;36mWebDriver.find_elements\u001b[1;34m(self, by, value)\u001b[0m\n\u001b[0;32m   1001\u001b[0m         value \u001b[38;5;241m=\u001b[39m \u001b[38;5;124m'\u001b[39m\u001b[38;5;124m[name=\u001b[39m\u001b[38;5;124m\"\u001b[39m\u001b[38;5;132;01m%s\u001b[39;00m\u001b[38;5;124m\"\u001b[39m\u001b[38;5;124m]\u001b[39m\u001b[38;5;124m'\u001b[39m \u001b[38;5;241m%\u001b[39m value\n\u001b[0;32m   1003\u001b[0m \u001b[38;5;66;03m# Return empty list if driver returns null\u001b[39;00m\n\u001b[0;32m   1004\u001b[0m \u001b[38;5;66;03m# See https://github.com/SeleniumHQ/selenium/issues/4555\u001b[39;00m\n\u001b[1;32m-> 1005\u001b[0m \u001b[38;5;28;01mreturn\u001b[39;00m \u001b[38;5;28mself\u001b[39m\u001b[38;5;241m.\u001b[39mexecute(Command\u001b[38;5;241m.\u001b[39mFIND_ELEMENTS, {\n\u001b[0;32m   1006\u001b[0m     \u001b[38;5;124m'\u001b[39m\u001b[38;5;124musing\u001b[39m\u001b[38;5;124m'\u001b[39m: by,\n\u001b[0;32m   1007\u001b[0m     \u001b[38;5;124m'\u001b[39m\u001b[38;5;124mvalue\u001b[39m\u001b[38;5;124m'\u001b[39m: value})[\u001b[38;5;124m'\u001b[39m\u001b[38;5;124mvalue\u001b[39m\u001b[38;5;124m'\u001b[39m] \u001b[38;5;129;01mor\u001b[39;00m []\n",
      "File \u001b[1;32mc:\\ProgramData\\miniconda3\\Lib\\site-packages\\selenium\\webdriver\\remote\\webdriver.py:321\u001b[0m, in \u001b[0;36mWebDriver.execute\u001b[1;34m(self, driver_command, params)\u001b[0m\n\u001b[0;32m    319\u001b[0m response \u001b[38;5;241m=\u001b[39m \u001b[38;5;28mself\u001b[39m\u001b[38;5;241m.\u001b[39mcommand_executor\u001b[38;5;241m.\u001b[39mexecute(driver_command, params)\n\u001b[0;32m    320\u001b[0m \u001b[38;5;28;01mif\u001b[39;00m response:\n\u001b[1;32m--> 321\u001b[0m     \u001b[38;5;28mself\u001b[39m\u001b[38;5;241m.\u001b[39merror_handler\u001b[38;5;241m.\u001b[39mcheck_response(response)\n\u001b[0;32m    322\u001b[0m     response[\u001b[38;5;124m'\u001b[39m\u001b[38;5;124mvalue\u001b[39m\u001b[38;5;124m'\u001b[39m] \u001b[38;5;241m=\u001b[39m \u001b[38;5;28mself\u001b[39m\u001b[38;5;241m.\u001b[39m_unwrap_value(\n\u001b[0;32m    323\u001b[0m         response\u001b[38;5;241m.\u001b[39mget(\u001b[38;5;124m'\u001b[39m\u001b[38;5;124mvalue\u001b[39m\u001b[38;5;124m'\u001b[39m, \u001b[38;5;28;01mNone\u001b[39;00m))\n\u001b[0;32m    324\u001b[0m     \u001b[38;5;28;01mreturn\u001b[39;00m response\n",
      "File \u001b[1;32mc:\\ProgramData\\miniconda3\\Lib\\site-packages\\selenium\\webdriver\\remote\\errorhandler.py:242\u001b[0m, in \u001b[0;36mErrorHandler.check_response\u001b[1;34m(self, response)\u001b[0m\n\u001b[0;32m    240\u001b[0m         alert_text \u001b[38;5;241m=\u001b[39m value[\u001b[38;5;124m'\u001b[39m\u001b[38;5;124malert\u001b[39m\u001b[38;5;124m'\u001b[39m]\u001b[38;5;241m.\u001b[39mget(\u001b[38;5;124m'\u001b[39m\u001b[38;5;124mtext\u001b[39m\u001b[38;5;124m'\u001b[39m)\n\u001b[0;32m    241\u001b[0m     \u001b[38;5;28;01mraise\u001b[39;00m exception_class(message, screen, stacktrace, alert_text)\n\u001b[1;32m--> 242\u001b[0m \u001b[38;5;28;01mraise\u001b[39;00m exception_class(message, screen, stacktrace)\n",
      "\u001b[1;31mNoSuchWindowException\u001b[0m: Message: no such window: target window already closed\nfrom unknown error: web view not found\n  (Session info: chrome=125.0.6422.112)\n"
     ]
    },
    {
     "ename": "",
     "evalue": "",
     "output_type": "error",
     "traceback": [
      "\u001b[1;31mThe Kernel crashed while executing code in the current cell or a previous cell. \n",
      "\u001b[1;31mPlease review the code in the cell(s) to identify a possible cause of the failure. \n",
      "\u001b[1;31mClick <a href='https://aka.ms/vscodeJupyterKernelCrash'>here</a> for more info. \n",
      "\u001b[1;31mView Jupyter <a href='command:jupyter.viewOutput'>log</a> for further details."
     ]
    }
   ],
   "source": [
    "url = \"https://www.ivivu.com/ve-may-bay/tim-kiem/ho-chi-minh-di-phu-quoc?from=sgn&to=cxr&departdate=2024-05-23&returndate=2024-05-24&adult=1&child=0&infant=0&timeDepart=09:00&timeReturn=15:00\"\n",
    "path = r\"D:\\misc\\chromedriver-win64\\chromedriver.exe\"\n",
    "flight_data = []\n",
    "price_data = []\n",
    "\n",
    "driver = webdriver.Chrome(path)\n",
    "driver.get(url)\n",
    "driver.maximize_window()\n",
    "driver.implicitly_wait(90)\n",
    "\n",
    "\n",
    "XPATH = \"//app-flight-list-detail/div/div/div/div/label[1]\"\n",
    "flight = driver.find_elements_by_xpath(XPATH)\n",
    "for i in flight:\n",
    "    driver.execute_script(\"arguments[0].click();\", i)\n",
    "\n",
    "\n",
    "content_XPATH = \"//app-flight-list-detail/div/div[2]\"\n",
    "content = driver.find_elements_by_xpath(content_XPATH)\n",
    "for i in content:\n",
    "    flight_data.append(i.text)\n",
    "\n",
    "# price_XPATH = '//div[1]/div[2]/div[1]/div[5]/h4/b'\n",
    "# price = driver.find_elements_by_xpath(price_XPATH)\n",
    "# for i in price:\n",
    "#     price_data.append(i.text)\n",
    "\n",
    "driver.quit()\n",
    "\n",
    "# if len(flight_data) == len(price_data):\n",
    "#     flight_data = pd.DataFrame(flight_data, columns=['content'])\n",
    "#     flight_data['price'] = price_data\n",
    "#     flight_data.to_csv(\"flight_data.csv\", index=False)\n",
    "# else:\n",
    "#     print(\"Data not match\")\n",
    "\n",
    "flight_data = pd.DataFrame(flight_data, columns=['content'])\n",
    "flight_data.to_csv(\"flight_data_han_sgn.csv\", index=False)"
   ]
  },
  {
   "cell_type": "code",
   "execution_count": 20,
   "metadata": {},
   "outputs": [
    {
     "name": "stdout",
     "output_type": "stream",
     "text": [
      "1.188.000\n",
      "947.000\n",
      "947.000\n",
      "1.185.000\n",
      "1.519.000\n",
      "1.707.000\n",
      "1.616.000\n",
      "1.702.000\n",
      "1.789.000\n",
      "1.422.000\n",
      "1.843.000\n",
      "1.519.000\n",
      "1.900.000\n",
      "1.905.000\n",
      "1.519.000\n",
      "1.616.000\n",
      "1.616.000\n",
      "1.702.000\n",
      "1.702.000\n",
      "1.789.000\n",
      "1.843.000\n",
      "1.789.000\n",
      "1.900.000\n",
      "1.905.000\n",
      "1.843.000\n",
      "1.900.000\n",
      "1.941.000\n",
      "1.905.000\n",
      "1.519.000\n",
      "1.703.000\n",
      "1.703.000\n",
      "2.959.000\n",
      "1.616.000\n",
      "1.702.000\n",
      "1.789.000\n",
      "1.843.000\n",
      "1.900.000\n",
      "1.905.000\n",
      "3.823.000\n",
      "3.592.000\n",
      "4.024.000\n",
      "3.647.000\n",
      "3.647.000\n",
      "3.647.000\n",
      "3.592.000\n",
      "\n",
      "\n",
      "\n",
      "\n",
      "\n",
      "\n",
      "\n",
      "\n",
      "\n",
      "\n",
      "\n",
      "\n",
      "\n",
      "\n",
      "\n",
      "\n",
      "\n",
      "\n",
      "\n",
      "\n",
      "\n",
      "\n",
      "\n",
      "\n",
      "\n",
      "\n",
      "\n",
      "\n",
      "\n",
      "\n",
      "\n",
      "\n",
      "\n",
      "\n",
      "\n",
      "\n",
      "\n",
      "\n",
      "\n"
     ]
    }
   ],
   "source": [
    "url = \"https://www.ivivu.com/ve-may-bay/tim-kiem/ho-chi-minh-di-phu-quoc?from=sgn&to=cxr&departdate=2024-05-23&returndate=2024-05-24&adult=1&child=0&infant=0&timeDepart=09:00&timeReturn=15:00\"\n",
    "path = r\"D:\\misc\\chromedriver-win64\\chromedriver.exe\"\n",
    "# flight_data = []\n",
    "price_data = []\n",
    "\n",
    "driver = webdriver.Chrome(path)\n",
    "driver.get(url)\n",
    "driver.maximize_window()\n",
    "driver.implicitly_wait(30)\n",
    "\n",
    "price_XPATH = '//div[1]/div[2]/div[1]/div[5]/h4/b'\n",
    "price = driver.find_elements_by_xpath(price_XPATH)\n",
    "for i in price:\n",
    "    print(i.text)\n",
    "\n"
   ]
  },
  {
   "cell_type": "code",
   "execution_count": 52,
   "metadata": {},
   "outputs": [
    {
     "name": "stdout",
     "output_type": "stream",
     "text": [
      "['BambooAirways QH 1312', 'ECO SMART (Q)', '09:35', ' 23 th 5', '', '10:45', '23 th 5', ' Hồ Chí Minh SGN', 'Sân bay quốc tế Tân Sơn Nhất', '1h10p', 'Nha Trang CXR', 'Sân bay quốc tế Cam Ranh', 'Máy bay Airbus A321', 'Sơ đồ ghế ngồi 3-3', 'Hành lý xách tay 07kg', 'Hành lý ký gửi 0kg']\n"
     ]
    },
    {
     "data": {
      "text/plain": [
       "str"
      ]
     },
     "execution_count": 52,
     "metadata": {},
     "output_type": "execute_result"
    }
   ],
   "source": [
    "flight_ops = pd.read_csv(\"flight_data.csv\")\n",
    "# Split each /n into a new attribute\n",
    "# flight_ops['content'] = flight_ops['content'].str.split(\"\\n\")\n",
    "# Remove some unnecessary attributes\n",
    "flight_dict = {}\n",
    "instance = flight_ops.iloc[0,0]\n",
    "print(instance)\n",
    "type(instance)\n",
    "# flight_dict['airline'] = instance[1]\n",
    "\n",
    "# instance = flight_ops.iloc[0, 0]\n",
    "# instance = instance.split(\"\\n\")\n",
    "# print(instance)"
   ]
  },
  {
   "cell_type": "code",
   "execution_count": 44,
   "metadata": {},
   "outputs": [
    {
     "data": {
      "text/plain": [
       "{'airline': '['}"
      ]
     },
     "execution_count": 44,
     "metadata": {},
     "output_type": "execute_result"
    }
   ],
   "source": [
    "flight_dict"
   ]
  },
  {
   "cell_type": "code",
   "execution_count": null,
   "metadata": {},
   "outputs": [],
   "source": []
  }
 ],
 "metadata": {
  "kernelspec": {
   "display_name": "base",
   "language": "python",
   "name": "python3"
  },
  "language_info": {
   "codemirror_mode": {
    "name": "ipython",
    "version": 3
   },
   "file_extension": ".py",
   "mimetype": "text/x-python",
   "name": "python",
   "nbconvert_exporter": "python",
   "pygments_lexer": "ipython3",
   "version": "undefined.undefined.undefined"
  }
 },
 "nbformat": 4,
 "nbformat_minor": 2
}
