{
 "cells": [
  {
   "cell_type": "code",
   "execution_count": 1,
   "metadata": {},
   "outputs": [],
   "source": [
    "def extract_hour(hour):\n",
    "    \n",
    "    if 6 <= hour < 12:\n",
    "        return \"Morning\"\n",
    "    elif 12 <= hour < 18:\n",
    "        return \"Afternoon\"\n",
    "    elif 18 <= hour < 22:\n",
    "        return \"Evening\"\n",
    "    else:\n",
    "        return \"Night\"\n",
    "    \n",
    "def extract_month(date):\n",
    "\n",
    "    month = int(date.split('-')[1])\n",
    "    day = int(date.split('-')[0])\n",
    "    datetime = f\"2024/{month}/{day}\"\n",
    "\n",
    "    datetime = pd.to_datetime(datetime, format='%Y/%m/%d')\n",
    "    snapshot_date = \"2024/07/15\"\n",
    "    snapshot_date = pd.to_datetime(snapshot_date, format='%Y/%m/%d')\n",
    "    days_left = (datetime - snapshot_date).days\n",
    "    return days_left\n",
    "\n",
    "def extract_duration(depart_hour, depart_min, arrive_hour, arrive_min):\n",
    "    depart = int(depart_hour) * 60 + int(depart_min)\n",
    "    arrive = int(arrive_hour) * 60 + int(arrive_min)\n",
    "    duration = arrive - depart\n",
    "    if duration < 0:\n",
    "        duration += 1440\n",
    "    duration = float(duration / 60)\n",
    "\n",
    "    # Round to 2 decimal places\n",
    "    duration = round(duration, 2)\n",
    "    return duration"
   ]
  },
  {
   "cell_type": "code",
   "execution_count": 2,
   "metadata": {},
   "outputs": [],
   "source": [
    "import warnings\n",
    "import pandas as pd\n",
    "\n",
    "def preprocess_input(features):\n",
    "    warnings.filterwarnings(\"ignore\")\n",
    "    X = pd.DataFrame([features])\n",
    "    days_left = [extract_month(date) for date in X[\"depart_date\"]]\n",
    "    X[\"days_left\"] = days_left\n",
    "    X[\"duration\"] = extract_duration(X[\"depart_hour\"], X[\"depart_min\"], X[\"arrival_hour\"], X[\"arrival_min\"])\n",
    "    X[\"depart_hour\"] = X[\"depart_hour\"].apply(extract_hour)\n",
    "    X[\"arrival_hour\"] = X[\"arrival_hour\"].apply(extract_hour)\n",
    "\n",
    "    # Drop the original columns\n",
    "    X = X.drop(columns=[\"depart_date\", \"depart_min\", \"arrival_min\"])\n",
    "\n",
    "    # Rename depart_hour and arrival_hour into depart_time and arrival_time\n",
    "    X = X.rename(columns={\"depart_hour\": \"depart_time\", \"arrival_hour\": \"arrival_time\"})\n",
    "\n",
    "    # One hot encode based on the feature columns\n",
    "    feature = pd.read_csv('features.csv')\n",
    "    columns = feature.columns\n",
    "    print(len(columns))\n",
    "\n",
    "    X = pd.get_dummies(X)\n",
    "    X = X.reindex(columns=columns, fill_value=False)\n",
    "    print(X)\n",
    "    return X"
   ]
  },
  {
   "cell_type": "code",
   "execution_count": 3,
   "metadata": {},
   "outputs": [],
   "source": [
    "features = {\n",
    "    'airline': 'VietjetAir', # {'VietnamAirlines', 'BambooAirways', 'VietjetAir'}\n",
    "    'src': \"SGN\", # {'SGN', 'HAN', 'DAD', 'CXR', 'PQC'}\n",
    "    'dest': \"CXR\", # {'SGN', 'HAN', 'DAD', 'CXR', 'PQC'}\n",
    "    'fare_class': \"Economy\", # {'Economy', 'Business'}\n",
    "    'depart_date': \"01-08\", # 'dd-mm'\n",
    "    'depart_hour': 6, # 0-23\n",
    "    'depart_min': 30, # 0-59\n",
    "    'arrival_hour': 8, # 0-23\n",
    "    'arrival_min': 25, # 0-59\n",
    "    \"cabin_luggage\": 0, # int\n",
    "    \"hand_luggage\": 7 # int\n",
    "}"
   ]
  },
  {
   "cell_type": "code",
   "execution_count": 7,
   "metadata": {},
   "outputs": [
    {
     "name": "stdout",
     "output_type": "stream",
     "text": [
      "27\n",
      "   cabin_luggage  hand_luggage  duration  days_left  airline_BambooAirways  \\\n",
      "0              0             7      1.92         17                  False   \n",
      "\n",
      "   airline_VietJetAir  airline_VietnamAirlines  fare_class_Business  \\\n",
      "0               False                    False                False   \n",
      "\n",
      "   fare_class_Economy  depart_time_Afternoon  ...  src_CXR  src_DAD  src_HAN  \\\n",
      "0                True                  False  ...    False    False    False   \n",
      "\n",
      "   src_PQC  src_SGN  dest_CXR  dest_DAD  dest_HAN  dest_PQC  dest_SGN  \n",
      "0    False     True      True     False     False     False     False  \n",
      "\n",
      "[1 rows x 27 columns]\n"
     ]
    },
    {
     "data": {
      "text/plain": [
       "'2,219,919đ'"
      ]
     },
     "execution_count": 7,
     "metadata": {},
     "output_type": "execute_result"
    }
   ],
   "source": [
    "import joblib\n",
    "\n",
    "flight_price_predictor = joblib.load('flight_price_predictor.pkl')    \n",
    "\n",
    "X = preprocess_input(features)\n",
    "fare_pred = flight_price_predictor.predict(X)[0]\n",
    "fare_pred = \"{:0,.0f}đ\".format(fare_pred)\n",
    "fare_pred"
   ]
  },
  {
   "cell_type": "code",
   "execution_count": null,
   "metadata": {},
   "outputs": [],
   "source": []
  },
  {
   "cell_type": "code",
   "execution_count": null,
   "metadata": {},
   "outputs": [],
   "source": []
  }
 ],
 "metadata": {
  "kernelspec": {
   "display_name": "Python 3",
   "language": "python",
   "name": "python3"
  },
  "language_info": {
   "codemirror_mode": {
    "name": "ipython",
    "version": 3
   },
   "file_extension": ".py",
   "mimetype": "text/x-python",
   "name": "python",
   "nbconvert_exporter": "python",
   "pygments_lexer": "ipython3",
   "version": "3.10.12"
  }
 },
 "nbformat": 4,
 "nbformat_minor": 2
}
